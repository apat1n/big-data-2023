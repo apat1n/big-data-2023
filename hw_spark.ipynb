{
 "cells": [
  {
   "cell_type": "markdown",
   "id": "54cc783d-6815-4625-8178-553230ba798a",
   "metadata": {},
   "source": [
    "## Задание 1"
   ]
  },
  {
   "cell_type": "code",
   "execution_count": 1,
   "id": "ff026fe9-6aae-4529-bd43-02d6c53fa334",
   "metadata": {},
   "outputs": [],
   "source": [
    "import pyspark\n",
    "from pyspark import SparkContext, SparkConf"
   ]
  },
  {
   "cell_type": "code",
   "execution_count": 2,
   "id": "8e180bdb-1834-49bc-a8c1-57dbacb87066",
   "metadata": {},
   "outputs": [
    {
     "name": "stdout",
     "output_type": "stream",
     "text": [
      "Safe mode is OFF\n"
     ]
    }
   ],
   "source": [
    "!hdfs dfsadmin -safemode leave"
   ]
  },
  {
   "cell_type": "code",
   "execution_count": 3,
   "id": "b6f7353d-35be-4e91-b65a-944a7e109ec0",
   "metadata": {},
   "outputs": [
    {
     "name": "stderr",
     "output_type": "stream",
     "text": [
      "Setting default log level to \"WARN\".\n",
      "To adjust logging level use sc.setLogLevel(newLevel). For SparkR, use setLogLevel(newLevel).\n",
      "23/12/29 23:37:33 WARN Client: Neither spark.yarn.jars nor spark.yarn.archive is set, falling back to uploading libraries under SPARK_HOME.\n"
     ]
    }
   ],
   "source": [
    "conf = (\n",
    "    SparkConf()\n",
    "    .set(\"spark.executor.instances\", \"2\")\n",
    "    .set(\"spark.executor.cores\", \"1\")\n",
    "    .set(\"spark.executor.memory\", \"512m\")\n",
    ")\n",
    "\n",
    "sc = SparkContext(appName=\"lopatin_spark\", master=\"yarn\")"
   ]
  },
  {
   "cell_type": "code",
   "execution_count": 7,
   "id": "4f979b32-1b4a-4a51-9e15-6de650197f5c",
   "metadata": {},
   "outputs": [],
   "source": [
    "!hdfs dfs -put ml-latest-small ."
   ]
  },
  {
   "cell_type": "code",
   "execution_count": 5,
   "id": "0a5cf62d-efc4-4f29-a5ac-4deef06d9dd9",
   "metadata": {},
   "outputs": [
    {
     "data": {
      "text/html": [
       "\n",
       "            <div>\n",
       "                <p><b>SparkSession - in-memory</b></p>\n",
       "                \n",
       "        <div>\n",
       "            <p><b>SparkContext</b></p>\n",
       "\n",
       "            <p><a href=\"http://441dc9778071:4040\">Spark UI</a></p>\n",
       "\n",
       "            <dl>\n",
       "              <dt>Version</dt>\n",
       "                <dd><code>v3.5.0</code></dd>\n",
       "              <dt>Master</dt>\n",
       "                <dd><code>yarn</code></dd>\n",
       "              <dt>AppName</dt>\n",
       "                <dd><code>lopatin_spark</code></dd>\n",
       "            </dl>\n",
       "        </div>\n",
       "        \n",
       "            </div>\n",
       "        "
      ],
      "text/plain": [
       "<pyspark.sql.session.SparkSession at 0x4004fcfa30>"
      ]
     },
     "execution_count": 5,
     "metadata": {},
     "output_type": "execute_result"
    }
   ],
   "source": [
    "from pyspark.sql import SparkSession\n",
    "\n",
    "spark = (\n",
    "    SparkSession.builder\n",
    "    .master(\"yarn\")\n",
    "    .appName(\"lopatin_spark_sql\")\n",
    "    .getOrCreate()\n",
    ")\n",
    "spark"
   ]
  },
  {
   "cell_type": "code",
   "execution_count": 8,
   "id": "29b77280-754f-42eb-9236-66ed0b564863",
   "metadata": {},
   "outputs": [
    {
     "name": "stderr",
     "output_type": "stream",
     "text": [
      "                                                                                \r"
     ]
    },
    {
     "data": {
      "text/plain": [
       "100836"
      ]
     },
     "execution_count": 8,
     "metadata": {},
     "output_type": "execute_result"
    }
   ],
   "source": [
    "ratings_df = (\n",
    "    spark\n",
    "    .read\n",
    "    .format(\"csv\")\n",
    "    .option(\"header\", \"True\")\n",
    "    .load(\"ml-latest-small/ratings.csv\")\n",
    ")\n",
    "ratings_df.count()"
   ]
  },
  {
   "cell_type": "code",
   "execution_count": 9,
   "id": "5b080808-f1f4-41e7-b28c-d5550c565e1b",
   "metadata": {},
   "outputs": [
    {
     "name": "stderr",
     "output_type": "stream",
     "text": [
      "                                                                                \r"
     ]
    },
    {
     "data": {
      "text/plain": [
       "3683"
      ]
     },
     "execution_count": 9,
     "metadata": {},
     "output_type": "execute_result"
    }
   ],
   "source": [
    "tags_df = (\n",
    "    spark\n",
    "    .read\n",
    "    .format(\"csv\")\n",
    "    .option(\"header\", \"True\")\n",
    "    .load(\"ml-latest-small/tags.csv\")\n",
    ")\n",
    "tags_df.count()"
   ]
  },
  {
   "cell_type": "markdown",
   "id": "62428388-259c-4237-b6f9-1c979d242a21",
   "metadata": {},
   "source": [
    "для каждого подсчета было выполнено 3 стейджа, в каждом по одной таски"
   ]
  },
  {
   "cell_type": "markdown",
   "id": "00c5866b-f377-4a0a-bd9f-e5012ee8a352",
   "metadata": {},
   "source": [
    "## Задание 2"
   ]
  },
  {
   "cell_type": "code",
   "execution_count": 10,
   "id": "94b928da-0ed1-4582-81ba-b1564f74857a",
   "metadata": {},
   "outputs": [],
   "source": [
    "import pyspark.sql.functions as f"
   ]
  },
  {
   "cell_type": "code",
   "execution_count": 11,
   "id": "42eaa040-3e6d-4156-a48b-d0f62e11dcbf",
   "metadata": {},
   "outputs": [
    {
     "name": "stderr",
     "output_type": "stream",
     "text": [
      "                                                                                \r"
     ]
    },
    {
     "data": {
      "text/plain": [
       "9724"
      ]
     },
     "execution_count": 11,
     "metadata": {},
     "output_type": "execute_result"
    }
   ],
   "source": [
    "# количество уникальных фильмов\n",
    "ratings_df.groupby(\"movieId\").count().count()"
   ]
  },
  {
   "cell_type": "code",
   "execution_count": 12,
   "id": "f2734ce5-9185-4514-9d17-af56747543b9",
   "metadata": {},
   "outputs": [
    {
     "name": "stderr",
     "output_type": "stream",
     "text": [
      "                                                                                \r"
     ]
    },
    {
     "data": {
      "text/plain": [
       "610"
      ]
     },
     "execution_count": 12,
     "metadata": {},
     "output_type": "execute_result"
    }
   ],
   "source": [
    "# количество уникальных юзеров\n",
    "ratings_df.groupby(\"userId\").count().count()"
   ]
  },
  {
   "cell_type": "code",
   "execution_count": 13,
   "id": "fd9741dc-3797-43fb-a611-1871dc7daa95",
   "metadata": {},
   "outputs": [
    {
     "name": "stderr",
     "output_type": "stream",
     "text": [
      "                                                                                \r"
     ]
    },
    {
     "data": {
      "text/plain": [
       "48580"
      ]
     },
     "execution_count": 13,
     "metadata": {},
     "output_type": "execute_result"
    }
   ],
   "source": [
    "# количество оценок >= 4.0\n",
    "ratings_df.filter(f.col(\"rating\") >= 4.0).count()"
   ]
  },
  {
   "cell_type": "code",
   "execution_count": 14,
   "id": "454cc5be-2e27-477a-8117-bf77aa87b5a6",
   "metadata": {},
   "outputs": [
    {
     "name": "stderr",
     "output_type": "stream",
     "text": [
      "                                                                                \r"
     ]
    },
    {
     "name": "stdout",
     "output_type": "stream",
     "text": [
      "+-------+----------+\n",
      "|movieId|avg_rating|\n",
      "+-------+----------+\n",
      "| 102084|       5.0|\n",
      "| 126921|       5.0|\n",
      "|   5723|       5.0|\n",
      "|    467|       5.0|\n",
      "|  95149|       5.0|\n",
      "| 140627|       5.0|\n",
      "|    633|       5.0|\n",
      "| 147330|       5.0|\n",
      "| 103602|       5.0|\n",
      "|  96608|       5.0|\n",
      "| 118270|       5.0|\n",
      "|   1349|       5.0|\n",
      "| 147410|       5.0|\n",
      "|    496|       5.0|\n",
      "| 136355|       5.0|\n",
      "| 136341|       5.0|\n",
      "| 173351|       5.0|\n",
      "|    495|       5.0|\n",
      "| 131724|       5.0|\n",
      "|  47736|       5.0|\n",
      "|   6835|       5.0|\n",
      "|  69469|       5.0|\n",
      "| 131098|       5.0|\n",
      "| 151769|       5.0|\n",
      "| 172875|       5.0|\n",
      "|   5745|       5.0|\n",
      "|  26147|       5.0|\n",
      "|  73822|       5.0|\n",
      "|   4495|       5.0|\n",
      "|    626|       5.0|\n",
      "|   3939|       5.0|\n",
      "|   3496|       5.0|\n",
      "|  44851|       5.0|\n",
      "| 140265|       5.0|\n",
      "|  53280|       5.0|\n",
      "| 107951|       5.0|\n",
      "| 141718|       5.0|\n",
      "|  72692|       5.0|\n",
      "|  27751|       5.0|\n",
      "| 175397|       5.0|\n",
      "|    876|       5.0|\n",
      "|  26073|       5.0|\n",
      "|  85295|       5.0|\n",
      "| 113829|       5.0|\n",
      "| 136834|       5.0|\n",
      "|  86237|       5.0|\n",
      "|  99636|       5.0|\n",
      "|  25947|       5.0|\n",
      "| 128914|       5.0|\n",
      "|  90943|       5.0|\n",
      "| 152711|       5.0|\n",
      "|  33649|       5.0|\n",
      "| 164367|       5.0|\n",
      "|  69211|       5.0|\n",
      "| 136556|       5.0|\n",
      "| 147250|       5.0|\n",
      "|  25887|       5.0|\n",
      "| 134004|       5.0|\n",
      "|  96935|       5.0|\n",
      "|     99|       5.0|\n",
      "| 132153|       5.0|\n",
      "| 143559|       5.0|\n",
      "|  77846|       5.0|\n",
      "|   5607|       5.0|\n",
      "|  45503|       5.0|\n",
      "|  50999|       5.0|\n",
      "|   2512|       5.0|\n",
      "| 142444|       5.0|\n",
      "|   2075|       5.0|\n",
      "|   8580|       5.0|\n",
      "| 117531|       5.0|\n",
      "| 162344|       5.0|\n",
      "| 136850|       5.0|\n",
      "| 138966|       5.0|\n",
      "| 172587|       5.0|\n",
      "| 139640|       5.0|\n",
      "|   4116|       5.0|\n",
      "|   6402|       5.0|\n",
      "| 109633|       5.0|\n",
      "| 179133|       5.0|\n",
      "|   6086|       5.0|\n",
      "| 131610|       5.0|\n",
      "|  96430|       5.0|\n",
      "|  34312|       5.0|\n",
      "| 149566|       5.0|\n",
      "| 147196|       5.0|\n",
      "|  69860|       5.0|\n",
      "|  67618|       5.0|\n",
      "| 162414|       5.0|\n",
      "| 102217|       5.0|\n",
      "|   6611|       5.0|\n",
      "| 136447|       5.0|\n",
      "|  72142|       5.0|\n",
      "|   4402|       5.0|\n",
      "|   5416|       5.0|\n",
      "|  64501|       5.0|\n",
      "|  27373|       5.0|\n",
      "|  76091|       5.0|\n",
      "| 136353|       5.0|\n",
      "| 130978|       5.0|\n",
      "+-------+----------+\n",
      "only showing top 100 rows\n",
      "\n"
     ]
    }
   ],
   "source": [
    "# топ-100 фильмов с самым высоким рейтингом\n",
    "(\n",
    "    ratings_df\n",
    "    .groupBy('movieId')\n",
    "    .agg(f.avg(f.col(\"rating\")).alias(\"avg_rating\"))\n",
    "    .orderBy(\"avg_rating\", ascending=False)\n",
    "    .show(100)\n",
    ")"
   ]
  },
  {
   "cell_type": "code",
   "execution_count": 17,
   "id": "2003e72b-0f6b-4f69-8c4b-c53faca05f0d",
   "metadata": {},
   "outputs": [
    {
     "name": "stderr",
     "output_type": "stream",
     "text": [
      "[Stage 39:>                                                         (0 + 1) / 1]\r"
     ]
    },
    {
     "name": "stdout",
     "output_type": "stream",
     "text": [
      "+--------------------+\n",
      "|          avg(delta)|\n",
      "+--------------------+\n",
      "|2.6243727372266974E7|\n",
      "+--------------------+\n",
      "\n"
     ]
    },
    {
     "name": "stderr",
     "output_type": "stream",
     "text": [
      "                                                                                \r"
     ]
    }
   ],
   "source": [
    "# временная разница между тегированием и оценкой\n",
    "(\n",
    "    ratings_df\n",
    "    .alias(\"r\")\n",
    "    .join(tags_df.alias(\"t\"), on=[\"userId\", \"movieId\"], how=\"inner\")\n",
    "    .select((f.col(\"t.timestamp\") - f.col(\"r.timestamp\")).alias(\"delta\"))\n",
    "    .select(f.avg(f.col(\"delta\")))\n",
    "    .show()\n",
    ")"
   ]
  },
  {
   "cell_type": "code",
   "execution_count": 16,
   "id": "343a1186-9057-4cd2-9179-929585e46aa3",
   "metadata": {},
   "outputs": [
    {
     "name": "stderr",
     "output_type": "stream",
     "text": [
      "[Stage 32:>                                                         (0 + 1) / 1]\r"
     ]
    },
    {
     "name": "stdout",
     "output_type": "stream",
     "text": [
      "+------------------+\n",
      "|   avg(avg_rating)|\n",
      "+------------------+\n",
      "|3.6572223377474007|\n",
      "+------------------+\n",
      "\n"
     ]
    },
    {
     "name": "stderr",
     "output_type": "stream",
     "text": [
      "                                                                                \r"
     ]
    }
   ],
   "source": [
    "# усредненная по пользователям средняя оценка фильма\n",
    "(\n",
    "    ratings_df\n",
    "    .groupBy(\"userId\")\n",
    "    .agg(f.avg(f.col(\"rating\")).alias(\"avg_rating\"))\n",
    "    .select(f.avg(f.col(\"avg_rating\")))\n",
    "    .show()\n",
    ")"
   ]
  },
  {
   "cell_type": "markdown",
   "id": "542def37-c1e0-43d7-b25b-e5c198ae442e",
   "metadata": {},
   "source": [
    "## Задание 3"
   ]
  },
  {
   "cell_type": "code",
   "execution_count": null,
   "id": "2582bff0-7b5d-408e-99b9-13e936708455",
   "metadata": {},
   "outputs": [],
   "source": []
  }
 ],
 "metadata": {
  "kernelspec": {
   "display_name": "Python 3 (ipykernel)",
   "language": "python",
   "name": "python3"
  },
  "language_info": {
   "codemirror_mode": {
    "name": "ipython",
    "version": 3
   },
   "file_extension": ".py",
   "mimetype": "text/x-python",
   "name": "python",
   "nbconvert_exporter": "python",
   "pygments_lexer": "ipython3",
   "version": "3.10.12"
  }
 },
 "nbformat": 4,
 "nbformat_minor": 5
}
