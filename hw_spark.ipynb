{
 "cells": [
  {
   "cell_type": "markdown",
   "id": "54cc783d-6815-4625-8178-553230ba798a",
   "metadata": {},
   "source": [
    "## Задание 1"
   ]
  },
  {
   "cell_type": "code",
   "execution_count": 1,
   "id": "ff026fe9-6aae-4529-bd43-02d6c53fa334",
   "metadata": {},
   "outputs": [],
   "source": [
    "import pyspark\n",
    "from pyspark import SparkContext, SparkConf"
   ]
  },
  {
   "cell_type": "code",
   "execution_count": 2,
   "id": "8e180bdb-1834-49bc-a8c1-57dbacb87066",
   "metadata": {},
   "outputs": [
    {
     "name": "stdout",
     "output_type": "stream",
     "text": [
      "Safe mode is OFF\n"
     ]
    }
   ],
   "source": [
    "!hdfs dfsadmin -safemode leave"
   ]
  },
  {
   "cell_type": "code",
   "execution_count": 3,
   "id": "b6f7353d-35be-4e91-b65a-944a7e109ec0",
   "metadata": {},
   "outputs": [
    {
     "name": "stderr",
     "output_type": "stream",
     "text": [
      "Setting default log level to \"WARN\".\n",
      "To adjust logging level use sc.setLogLevel(newLevel). For SparkR, use setLogLevel(newLevel).\n",
      "23/12/30 00:28:34 WARN Utils: Service 'SparkUI' could not bind on port 4040. Attempting port 4041.\n",
      "23/12/30 00:28:39 WARN Client: Neither spark.yarn.jars nor spark.yarn.archive is set, falling back to uploading libraries under SPARK_HOME.\n"
     ]
    }
   ],
   "source": [
    "conf = (\n",
    "    SparkConf()\n",
    "    .set(\"spark.executor.instances\", \"2\")\n",
    "    .set(\"spark.executor.cores\", \"2\")\n",
    "    .set(\"spark.executor.memory\", \"512m\")\n",
    ")\n",
    "\n",
    "sc = SparkContext(appName=\"lopatin_spark_2\", master=\"yarn\")"
   ]
  },
  {
   "cell_type": "code",
   "execution_count": null,
   "id": "4f979b32-1b4a-4a51-9e15-6de650197f5c",
   "metadata": {},
   "outputs": [],
   "source": [
    "!hdfs dfs -put ml-latest-small ."
   ]
  },
  {
   "cell_type": "code",
   "execution_count": 5,
   "id": "0a5cf62d-efc4-4f29-a5ac-4deef06d9dd9",
   "metadata": {},
   "outputs": [
    {
     "data": {
      "text/html": [
       "\n",
       "            <div>\n",
       "                <p><b>SparkSession - in-memory</b></p>\n",
       "                \n",
       "        <div>\n",
       "            <p><b>SparkContext</b></p>\n",
       "\n",
       "            <p><a href=\"http://441dc9778071:4041\">Spark UI</a></p>\n",
       "\n",
       "            <dl>\n",
       "              <dt>Version</dt>\n",
       "                <dd><code>v3.5.0</code></dd>\n",
       "              <dt>Master</dt>\n",
       "                <dd><code>yarn</code></dd>\n",
       "              <dt>AppName</dt>\n",
       "                <dd><code>lopatin_spark_2</code></dd>\n",
       "            </dl>\n",
       "        </div>\n",
       "        \n",
       "            </div>\n",
       "        "
      ],
      "text/plain": [
       "<pyspark.sql.session.SparkSession at 0x405f759c30>"
      ]
     },
     "execution_count": 5,
     "metadata": {},
     "output_type": "execute_result"
    }
   ],
   "source": [
    "from pyspark.sql import SparkSession\n",
    "\n",
    "spark = (\n",
    "    SparkSession.builder\n",
    "    .master(\"yarn\")\n",
    "    .appName(\"lopatin_spark_sql\")\n",
    "    .getOrCreate()\n",
    ")\n",
    "spark"
   ]
  },
  {
   "cell_type": "code",
   "execution_count": 6,
   "id": "29b77280-754f-42eb-9236-66ed0b564863",
   "metadata": {},
   "outputs": [
    {
     "name": "stderr",
     "output_type": "stream",
     "text": [
      "                                                                                \r"
     ]
    },
    {
     "data": {
      "text/plain": [
       "100836"
      ]
     },
     "execution_count": 6,
     "metadata": {},
     "output_type": "execute_result"
    }
   ],
   "source": [
    "ratings_df = (\n",
    "    spark\n",
    "    .read\n",
    "    .format(\"csv\")\n",
    "    .option(\"header\", \"True\")\n",
    "    .load(\"ml-latest-small/ratings.csv\")\n",
    ")\n",
    "ratings_df.count()"
   ]
  },
  {
   "cell_type": "code",
   "execution_count": 7,
   "id": "5b080808-f1f4-41e7-b28c-d5550c565e1b",
   "metadata": {},
   "outputs": [
    {
     "name": "stderr",
     "output_type": "stream",
     "text": [
      "                                                                                \r"
     ]
    },
    {
     "data": {
      "text/plain": [
       "3683"
      ]
     },
     "execution_count": 7,
     "metadata": {},
     "output_type": "execute_result"
    }
   ],
   "source": [
    "tags_df = (\n",
    "    spark\n",
    "    .read\n",
    "    .format(\"csv\")\n",
    "    .option(\"header\", \"True\")\n",
    "    .load(\"ml-latest-small/tags.csv\")\n",
    ")\n",
    "tags_df.count()"
   ]
  },
  {
   "cell_type": "markdown",
   "id": "62428388-259c-4237-b6f9-1c979d242a21",
   "metadata": {},
   "source": [
    "для каждого подсчета было выполнено 3 стейджа, в каждом по одной таски"
   ]
  },
  {
   "cell_type": "markdown",
   "id": "00c5866b-f377-4a0a-bd9f-e5012ee8a352",
   "metadata": {},
   "source": [
    "## Задание 2"
   ]
  },
  {
   "cell_type": "code",
   "execution_count": 10,
   "id": "94b928da-0ed1-4582-81ba-b1564f74857a",
   "metadata": {},
   "outputs": [],
   "source": [
    "import pyspark.sql.functions as f"
   ]
  },
  {
   "cell_type": "code",
   "execution_count": 11,
   "id": "42eaa040-3e6d-4156-a48b-d0f62e11dcbf",
   "metadata": {},
   "outputs": [
    {
     "name": "stderr",
     "output_type": "stream",
     "text": [
      "                                                                                \r"
     ]
    },
    {
     "data": {
      "text/plain": [
       "9724"
      ]
     },
     "execution_count": 11,
     "metadata": {},
     "output_type": "execute_result"
    }
   ],
   "source": [
    "# количество уникальных фильмов\n",
    "ratings_df.groupby(\"movieId\").count().count()"
   ]
  },
  {
   "cell_type": "code",
   "execution_count": 12,
   "id": "f2734ce5-9185-4514-9d17-af56747543b9",
   "metadata": {},
   "outputs": [
    {
     "name": "stderr",
     "output_type": "stream",
     "text": [
      "                                                                                \r"
     ]
    },
    {
     "data": {
      "text/plain": [
       "610"
      ]
     },
     "execution_count": 12,
     "metadata": {},
     "output_type": "execute_result"
    }
   ],
   "source": [
    "# количество уникальных юзеров\n",
    "ratings_df.groupby(\"userId\").count().count()"
   ]
  },
  {
   "cell_type": "code",
   "execution_count": 13,
   "id": "fd9741dc-3797-43fb-a611-1871dc7daa95",
   "metadata": {},
   "outputs": [
    {
     "name": "stderr",
     "output_type": "stream",
     "text": [
      "                                                                                \r"
     ]
    },
    {
     "data": {
      "text/plain": [
       "48580"
      ]
     },
     "execution_count": 13,
     "metadata": {},
     "output_type": "execute_result"
    }
   ],
   "source": [
    "# количество оценок >= 4.0\n",
    "ratings_df.filter(f.col(\"rating\") >= 4.0).count()"
   ]
  },
  {
   "cell_type": "code",
   "execution_count": 14,
   "id": "454cc5be-2e27-477a-8117-bf77aa87b5a6",
   "metadata": {},
   "outputs": [
    {
     "name": "stderr",
     "output_type": "stream",
     "text": [
      "                                                                                \r"
     ]
    },
    {
     "name": "stdout",
     "output_type": "stream",
     "text": [
      "+-------+----------+\n",
      "|movieId|avg_rating|\n",
      "+-------+----------+\n",
      "| 102084|       5.0|\n",
      "| 126921|       5.0|\n",
      "|   5723|       5.0|\n",
      "|    467|       5.0|\n",
      "|  95149|       5.0|\n",
      "| 140627|       5.0|\n",
      "|    633|       5.0|\n",
      "| 147330|       5.0|\n",
      "| 103602|       5.0|\n",
      "|  96608|       5.0|\n",
      "| 118270|       5.0|\n",
      "|   1349|       5.0|\n",
      "| 147410|       5.0|\n",
      "|    496|       5.0|\n",
      "| 136355|       5.0|\n",
      "| 136341|       5.0|\n",
      "| 173351|       5.0|\n",
      "|    495|       5.0|\n",
      "| 131724|       5.0|\n",
      "|  47736|       5.0|\n",
      "|   6835|       5.0|\n",
      "|  69469|       5.0|\n",
      "| 131098|       5.0|\n",
      "| 151769|       5.0|\n",
      "| 172875|       5.0|\n",
      "|   5745|       5.0|\n",
      "|  26147|       5.0|\n",
      "|  73822|       5.0|\n",
      "|   4495|       5.0|\n",
      "|    626|       5.0|\n",
      "|   3939|       5.0|\n",
      "|   3496|       5.0|\n",
      "|  44851|       5.0|\n",
      "| 140265|       5.0|\n",
      "|  53280|       5.0|\n",
      "| 107951|       5.0|\n",
      "| 141718|       5.0|\n",
      "|  72692|       5.0|\n",
      "|  27751|       5.0|\n",
      "| 175397|       5.0|\n",
      "|    876|       5.0|\n",
      "|  26073|       5.0|\n",
      "|  85295|       5.0|\n",
      "| 113829|       5.0|\n",
      "| 136834|       5.0|\n",
      "|  86237|       5.0|\n",
      "|  99636|       5.0|\n",
      "|  25947|       5.0|\n",
      "| 128914|       5.0|\n",
      "|  90943|       5.0|\n",
      "| 152711|       5.0|\n",
      "|  33649|       5.0|\n",
      "| 164367|       5.0|\n",
      "|  69211|       5.0|\n",
      "| 136556|       5.0|\n",
      "| 147250|       5.0|\n",
      "|  25887|       5.0|\n",
      "| 134004|       5.0|\n",
      "|  96935|       5.0|\n",
      "|     99|       5.0|\n",
      "| 132153|       5.0|\n",
      "| 143559|       5.0|\n",
      "|  77846|       5.0|\n",
      "|   5607|       5.0|\n",
      "|  45503|       5.0|\n",
      "|  50999|       5.0|\n",
      "|   2512|       5.0|\n",
      "| 142444|       5.0|\n",
      "|   2075|       5.0|\n",
      "|   8580|       5.0|\n",
      "| 117531|       5.0|\n",
      "| 162344|       5.0|\n",
      "| 136850|       5.0|\n",
      "| 138966|       5.0|\n",
      "| 172587|       5.0|\n",
      "| 139640|       5.0|\n",
      "|   4116|       5.0|\n",
      "|   6402|       5.0|\n",
      "| 109633|       5.0|\n",
      "| 179133|       5.0|\n",
      "|   6086|       5.0|\n",
      "| 131610|       5.0|\n",
      "|  96430|       5.0|\n",
      "|  34312|       5.0|\n",
      "| 149566|       5.0|\n",
      "| 147196|       5.0|\n",
      "|  69860|       5.0|\n",
      "|  67618|       5.0|\n",
      "| 162414|       5.0|\n",
      "| 102217|       5.0|\n",
      "|   6611|       5.0|\n",
      "| 136447|       5.0|\n",
      "|  72142|       5.0|\n",
      "|   4402|       5.0|\n",
      "|   5416|       5.0|\n",
      "|  64501|       5.0|\n",
      "|  27373|       5.0|\n",
      "|  76091|       5.0|\n",
      "| 136353|       5.0|\n",
      "| 130978|       5.0|\n",
      "+-------+----------+\n",
      "only showing top 100 rows\n",
      "\n"
     ]
    }
   ],
   "source": [
    "# топ-100 фильмов с самым высоким рейтингом\n",
    "(\n",
    "    ratings_df\n",
    "    .groupBy('movieId')\n",
    "    .agg(f.avg(f.col(\"rating\")).alias(\"avg_rating\"))\n",
    "    .orderBy(\"avg_rating\", ascending=False)\n",
    "    .show(100)\n",
    ")"
   ]
  },
  {
   "cell_type": "code",
   "execution_count": 17,
   "id": "2003e72b-0f6b-4f69-8c4b-c53faca05f0d",
   "metadata": {},
   "outputs": [
    {
     "name": "stderr",
     "output_type": "stream",
     "text": [
      "[Stage 39:>                                                         (0 + 1) / 1]\r"
     ]
    },
    {
     "name": "stdout",
     "output_type": "stream",
     "text": [
      "+--------------------+\n",
      "|          avg(delta)|\n",
      "+--------------------+\n",
      "|2.6243727372266974E7|\n",
      "+--------------------+\n",
      "\n"
     ]
    },
    {
     "name": "stderr",
     "output_type": "stream",
     "text": [
      "                                                                                \r"
     ]
    }
   ],
   "source": [
    "# временная разница между тегированием и оценкой\n",
    "(\n",
    "    ratings_df\n",
    "    .alias(\"r\")\n",
    "    .join(tags_df.alias(\"t\"), on=[\"userId\", \"movieId\"], how=\"inner\")\n",
    "    .select((f.col(\"t.timestamp\") - f.col(\"r.timestamp\")).alias(\"delta\"))\n",
    "    .select(f.avg(f.col(\"delta\")))\n",
    "    .show()\n",
    ")"
   ]
  },
  {
   "cell_type": "code",
   "execution_count": 16,
   "id": "343a1186-9057-4cd2-9179-929585e46aa3",
   "metadata": {},
   "outputs": [
    {
     "name": "stderr",
     "output_type": "stream",
     "text": [
      "[Stage 32:>                                                         (0 + 1) / 1]\r"
     ]
    },
    {
     "name": "stdout",
     "output_type": "stream",
     "text": [
      "+------------------+\n",
      "|   avg(avg_rating)|\n",
      "+------------------+\n",
      "|3.6572223377474007|\n",
      "+------------------+\n",
      "\n"
     ]
    },
    {
     "name": "stderr",
     "output_type": "stream",
     "text": [
      "                                                                                \r"
     ]
    }
   ],
   "source": [
    "# усредненная по пользователям средняя оценка фильма\n",
    "(\n",
    "    ratings_df\n",
    "    .groupBy(\"userId\")\n",
    "    .agg(f.avg(f.col(\"rating\")).alias(\"avg_rating\"))\n",
    "    .select(f.avg(f.col(\"avg_rating\")))\n",
    "    .show()\n",
    ")"
   ]
  },
  {
   "cell_type": "markdown",
   "id": "542def37-c1e0-43d7-b25b-e5c198ae442e",
   "metadata": {},
   "source": [
    "## Задание 3"
   ]
  },
  {
   "cell_type": "code",
   "execution_count": 8,
   "id": "de53e824-bce8-4499-8e53-d6d4cc100792",
   "metadata": {},
   "outputs": [
    {
     "name": "stderr",
     "output_type": "stream",
     "text": [
      "<jemalloc>: MADV_DONTNEED does not work (memset will be used instead)\n",
      "<jemalloc>: (This is the expected behaviour if you are running under QEMU)\n"
     ]
    }
   ],
   "source": [
    "from sklearn.feature_extraction.text import TfidfVectorizer\n",
    "from sklearn.linear_model import SGDRegressor\n",
    "\n",
    "import pandas as pd\n",
    "from pyspark.sql.types import FloatType"
   ]
  },
  {
   "cell_type": "code",
   "execution_count": 9,
   "id": "04a98594-a6e0-4c81-a27a-8eb12662a14f",
   "metadata": {},
   "outputs": [
    {
     "name": "stderr",
     "output_type": "stream",
     "text": [
      "                                                                                \r"
     ]
    }
   ],
   "source": [
    "joined_df = ratings_df.join(tags_df, on=[\"userId\", \"movieId\"], how=\"inner\").toPandas()"
   ]
  },
  {
   "cell_type": "code",
   "execution_count": 10,
   "id": "2582bff0-7b5d-408e-99b9-13e936708455",
   "metadata": {},
   "outputs": [
    {
     "data": {
      "text/html": [
       "<style>#sk-container-id-1 {color: black;}#sk-container-id-1 pre{padding: 0;}#sk-container-id-1 div.sk-toggleable {background-color: white;}#sk-container-id-1 label.sk-toggleable__label {cursor: pointer;display: block;width: 100%;margin-bottom: 0;padding: 0.3em;box-sizing: border-box;text-align: center;}#sk-container-id-1 label.sk-toggleable__label-arrow:before {content: \"▸\";float: left;margin-right: 0.25em;color: #696969;}#sk-container-id-1 label.sk-toggleable__label-arrow:hover:before {color: black;}#sk-container-id-1 div.sk-estimator:hover label.sk-toggleable__label-arrow:before {color: black;}#sk-container-id-1 div.sk-toggleable__content {max-height: 0;max-width: 0;overflow: hidden;text-align: left;background-color: #f0f8ff;}#sk-container-id-1 div.sk-toggleable__content pre {margin: 0.2em;color: black;border-radius: 0.25em;background-color: #f0f8ff;}#sk-container-id-1 input.sk-toggleable__control:checked~div.sk-toggleable__content {max-height: 200px;max-width: 100%;overflow: auto;}#sk-container-id-1 input.sk-toggleable__control:checked~label.sk-toggleable__label-arrow:before {content: \"▾\";}#sk-container-id-1 div.sk-estimator input.sk-toggleable__control:checked~label.sk-toggleable__label {background-color: #d4ebff;}#sk-container-id-1 div.sk-label input.sk-toggleable__control:checked~label.sk-toggleable__label {background-color: #d4ebff;}#sk-container-id-1 input.sk-hidden--visually {border: 0;clip: rect(1px 1px 1px 1px);clip: rect(1px, 1px, 1px, 1px);height: 1px;margin: -1px;overflow: hidden;padding: 0;position: absolute;width: 1px;}#sk-container-id-1 div.sk-estimator {font-family: monospace;background-color: #f0f8ff;border: 1px dotted black;border-radius: 0.25em;box-sizing: border-box;margin-bottom: 0.5em;}#sk-container-id-1 div.sk-estimator:hover {background-color: #d4ebff;}#sk-container-id-1 div.sk-parallel-item::after {content: \"\";width: 100%;border-bottom: 1px solid gray;flex-grow: 1;}#sk-container-id-1 div.sk-label:hover label.sk-toggleable__label {background-color: #d4ebff;}#sk-container-id-1 div.sk-serial::before {content: \"\";position: absolute;border-left: 1px solid gray;box-sizing: border-box;top: 0;bottom: 0;left: 50%;z-index: 0;}#sk-container-id-1 div.sk-serial {display: flex;flex-direction: column;align-items: center;background-color: white;padding-right: 0.2em;padding-left: 0.2em;position: relative;}#sk-container-id-1 div.sk-item {position: relative;z-index: 1;}#sk-container-id-1 div.sk-parallel {display: flex;align-items: stretch;justify-content: center;background-color: white;position: relative;}#sk-container-id-1 div.sk-item::before, #sk-container-id-1 div.sk-parallel-item::before {content: \"\";position: absolute;border-left: 1px solid gray;box-sizing: border-box;top: 0;bottom: 0;left: 50%;z-index: -1;}#sk-container-id-1 div.sk-parallel-item {display: flex;flex-direction: column;z-index: 1;position: relative;background-color: white;}#sk-container-id-1 div.sk-parallel-item:first-child::after {align-self: flex-end;width: 50%;}#sk-container-id-1 div.sk-parallel-item:last-child::after {align-self: flex-start;width: 50%;}#sk-container-id-1 div.sk-parallel-item:only-child::after {width: 0;}#sk-container-id-1 div.sk-dashed-wrapped {border: 1px dashed gray;margin: 0 0.4em 0.5em 0.4em;box-sizing: border-box;padding-bottom: 0.4em;background-color: white;}#sk-container-id-1 div.sk-label label {font-family: monospace;font-weight: bold;display: inline-block;line-height: 1.2em;}#sk-container-id-1 div.sk-label-container {text-align: center;}#sk-container-id-1 div.sk-container {/* jupyter's `normalize.less` sets `[hidden] { display: none; }` but bootstrap.min.css set `[hidden] { display: none !important; }` so we also need the `!important` here to be able to override the default hidden behavior on the sphinx rendered scikit-learn.org. See: https://github.com/scikit-learn/scikit-learn/issues/21755 */display: inline-block !important;position: relative;}#sk-container-id-1 div.sk-text-repr-fallback {display: none;}</style><div id=\"sk-container-id-1\" class=\"sk-top-container\"><div class=\"sk-text-repr-fallback\"><pre>TfidfVectorizer()</pre><b>In a Jupyter environment, please rerun this cell to show the HTML representation or trust the notebook. <br />On GitHub, the HTML representation is unable to render, please try loading this page with nbviewer.org.</b></div><div class=\"sk-container\" hidden><div class=\"sk-item\"><div class=\"sk-estimator sk-toggleable\"><input class=\"sk-toggleable__control sk-hidden--visually\" id=\"sk-estimator-id-1\" type=\"checkbox\" checked><label for=\"sk-estimator-id-1\" class=\"sk-toggleable__label sk-toggleable__label-arrow\">TfidfVectorizer</label><div class=\"sk-toggleable__content\"><pre>TfidfVectorizer()</pre></div></div></div></div></div>"
      ],
      "text/plain": [
       "TfidfVectorizer()"
      ]
     },
     "execution_count": 10,
     "metadata": {},
     "output_type": "execute_result"
    }
   ],
   "source": [
    "vectorizer = TfidfVectorizer()\n",
    "vectorizer.fit(joined_df[\"tag\"])"
   ]
  },
  {
   "cell_type": "code",
   "execution_count": 11,
   "id": "71eac43c-7139-413f-b369-b9926aae919c",
   "metadata": {},
   "outputs": [
    {
     "data": {
      "text/html": [
       "<style>#sk-container-id-2 {color: black;}#sk-container-id-2 pre{padding: 0;}#sk-container-id-2 div.sk-toggleable {background-color: white;}#sk-container-id-2 label.sk-toggleable__label {cursor: pointer;display: block;width: 100%;margin-bottom: 0;padding: 0.3em;box-sizing: border-box;text-align: center;}#sk-container-id-2 label.sk-toggleable__label-arrow:before {content: \"▸\";float: left;margin-right: 0.25em;color: #696969;}#sk-container-id-2 label.sk-toggleable__label-arrow:hover:before {color: black;}#sk-container-id-2 div.sk-estimator:hover label.sk-toggleable__label-arrow:before {color: black;}#sk-container-id-2 div.sk-toggleable__content {max-height: 0;max-width: 0;overflow: hidden;text-align: left;background-color: #f0f8ff;}#sk-container-id-2 div.sk-toggleable__content pre {margin: 0.2em;color: black;border-radius: 0.25em;background-color: #f0f8ff;}#sk-container-id-2 input.sk-toggleable__control:checked~div.sk-toggleable__content {max-height: 200px;max-width: 100%;overflow: auto;}#sk-container-id-2 input.sk-toggleable__control:checked~label.sk-toggleable__label-arrow:before {content: \"▾\";}#sk-container-id-2 div.sk-estimator input.sk-toggleable__control:checked~label.sk-toggleable__label {background-color: #d4ebff;}#sk-container-id-2 div.sk-label input.sk-toggleable__control:checked~label.sk-toggleable__label {background-color: #d4ebff;}#sk-container-id-2 input.sk-hidden--visually {border: 0;clip: rect(1px 1px 1px 1px);clip: rect(1px, 1px, 1px, 1px);height: 1px;margin: -1px;overflow: hidden;padding: 0;position: absolute;width: 1px;}#sk-container-id-2 div.sk-estimator {font-family: monospace;background-color: #f0f8ff;border: 1px dotted black;border-radius: 0.25em;box-sizing: border-box;margin-bottom: 0.5em;}#sk-container-id-2 div.sk-estimator:hover {background-color: #d4ebff;}#sk-container-id-2 div.sk-parallel-item::after {content: \"\";width: 100%;border-bottom: 1px solid gray;flex-grow: 1;}#sk-container-id-2 div.sk-label:hover label.sk-toggleable__label {background-color: #d4ebff;}#sk-container-id-2 div.sk-serial::before {content: \"\";position: absolute;border-left: 1px solid gray;box-sizing: border-box;top: 0;bottom: 0;left: 50%;z-index: 0;}#sk-container-id-2 div.sk-serial {display: flex;flex-direction: column;align-items: center;background-color: white;padding-right: 0.2em;padding-left: 0.2em;position: relative;}#sk-container-id-2 div.sk-item {position: relative;z-index: 1;}#sk-container-id-2 div.sk-parallel {display: flex;align-items: stretch;justify-content: center;background-color: white;position: relative;}#sk-container-id-2 div.sk-item::before, #sk-container-id-2 div.sk-parallel-item::before {content: \"\";position: absolute;border-left: 1px solid gray;box-sizing: border-box;top: 0;bottom: 0;left: 50%;z-index: -1;}#sk-container-id-2 div.sk-parallel-item {display: flex;flex-direction: column;z-index: 1;position: relative;background-color: white;}#sk-container-id-2 div.sk-parallel-item:first-child::after {align-self: flex-end;width: 50%;}#sk-container-id-2 div.sk-parallel-item:last-child::after {align-self: flex-start;width: 50%;}#sk-container-id-2 div.sk-parallel-item:only-child::after {width: 0;}#sk-container-id-2 div.sk-dashed-wrapped {border: 1px dashed gray;margin: 0 0.4em 0.5em 0.4em;box-sizing: border-box;padding-bottom: 0.4em;background-color: white;}#sk-container-id-2 div.sk-label label {font-family: monospace;font-weight: bold;display: inline-block;line-height: 1.2em;}#sk-container-id-2 div.sk-label-container {text-align: center;}#sk-container-id-2 div.sk-container {/* jupyter's `normalize.less` sets `[hidden] { display: none; }` but bootstrap.min.css set `[hidden] { display: none !important; }` so we also need the `!important` here to be able to override the default hidden behavior on the sphinx rendered scikit-learn.org. See: https://github.com/scikit-learn/scikit-learn/issues/21755 */display: inline-block !important;position: relative;}#sk-container-id-2 div.sk-text-repr-fallback {display: none;}</style><div id=\"sk-container-id-2\" class=\"sk-top-container\"><div class=\"sk-text-repr-fallback\"><pre>SGDRegressor()</pre><b>In a Jupyter environment, please rerun this cell to show the HTML representation or trust the notebook. <br />On GitHub, the HTML representation is unable to render, please try loading this page with nbviewer.org.</b></div><div class=\"sk-container\" hidden><div class=\"sk-item\"><div class=\"sk-estimator sk-toggleable\"><input class=\"sk-toggleable__control sk-hidden--visually\" id=\"sk-estimator-id-2\" type=\"checkbox\" checked><label for=\"sk-estimator-id-2\" class=\"sk-toggleable__label sk-toggleable__label-arrow\">SGDRegressor</label><div class=\"sk-toggleable__content\"><pre>SGDRegressor()</pre></div></div></div></div></div>"
      ],
      "text/plain": [
       "SGDRegressor()"
      ]
     },
     "execution_count": 11,
     "metadata": {},
     "output_type": "execute_result"
    }
   ],
   "source": [
    "model = SGDRegressor()\n",
    "X = vectorizer.transform(joined_df[\"tag\"])\n",
    "y = joined_df[\"rating\"]\n",
    "model.fit(X, y)"
   ]
  },
  {
   "cell_type": "code",
   "execution_count": 32,
   "id": "9857c04c-89b0-4ddd-81ac-b7561a94c95e",
   "metadata": {},
   "outputs": [],
   "source": [
    "@f.pandas_udf(FloatType())\n",
    "def predict_rating(tag):\n",
    "    return pd.Series(model.predict(vectorizer.transform(tag)))"
   ]
  },
  {
   "cell_type": "code",
   "execution_count": 33,
   "id": "4817971c-34c9-4554-ac0b-0195230714d0",
   "metadata": {
    "scrolled": true
   },
   "outputs": [
    {
     "name": "stderr",
     "output_type": "stream",
     "text": [
      "                                                                                \r"
     ]
    },
    {
     "name": "stdout",
     "output_type": "stream",
     "text": [
      "+------+-------+--------------------+----------+----------------+\n",
      "|userId|movieId|                 tag| timestamp|rating_predicted|\n",
      "+------+-------+--------------------+----------+----------------+\n",
      "|     2|  60756|               funny|1445714994|        4.364758|\n",
      "|     2|  60756|     Highly quotable|1445714996|       3.9516141|\n",
      "|     2|  60756|        will ferrell|1445714992|       4.0286427|\n",
      "|     2|  89774|        Boxing story|1445715207|       3.9261923|\n",
      "|     2|  89774|                 MMA|1445715200|        3.419473|\n",
      "|     2|  89774|           Tom Hardy|1445715205|       3.8319461|\n",
      "|     2| 106782|               drugs|1445715054|       4.2879524|\n",
      "|     2| 106782|   Leonardo DiCaprio|1445715051|       4.2352877|\n",
      "|     2| 106782|     Martin Scorsese|1445715056|       3.8444886|\n",
      "|     7|  48516|        way too long|1169687325|       3.4328892|\n",
      "|    18|    431|           Al Pacino|1462138765|       3.8567297|\n",
      "|    18|    431|            gangster|1462138749|       3.6196296|\n",
      "|    18|    431|               mafia|1462138755|        4.158341|\n",
      "|    18|   1221|           Al Pacino|1461699306|       3.8567297|\n",
      "|    18|   1221|               Mafia|1461699303|        4.158341|\n",
      "|    18|   5995|           holocaust|1455735472|       3.9758859|\n",
      "|    18|   5995|          true story|1455735479|        3.851121|\n",
      "|    18|  44665|        twist ending|1456948283|       4.8391285|\n",
      "|    18|  52604|     Anthony Hopkins|1457650696|       3.3807104|\n",
      "|    18|  52604|     courtroom drama|1457650711|        3.838327|\n",
      "|    18|  52604|        twist ending|1457650682|       4.8391285|\n",
      "|    18|  88094|             britpop|1457444500|       3.2692382|\n",
      "|    18|  88094|  indie record label|1457444592|       3.2680008|\n",
      "|    18|  88094|               music|1457444609|        4.297776|\n",
      "|    18| 144210|     dumpster diving|1455060381|         3.34358|\n",
      "|    18| 144210|      Sustainability|1455060452|       3.3435848|\n",
      "|    21|   1569|     romantic comedy|1419805413|       4.2363915|\n",
      "|    21|   1569|             wedding|1419805419|       3.4031665|\n",
      "|    21| 118985|             painter|1419805477|        3.221004|\n",
      "|    21| 119141|              bloody|1419793962|       3.5288806|\n",
      "|    49| 109487|          black hole|1493093306|       3.8530803|\n",
      "|    49| 109487|              sci-fi|1493093332|       4.2913404|\n",
      "|    49| 109487|         time-travel|1493093356|          4.2311|\n",
      "|    62|      2|             fantasy|1528843929|       3.9312358|\n",
      "|    62|      2|    magic board game|1528843932|        3.746934|\n",
      "|    62|      2|      Robin Williams|1528843907|       3.6953971|\n",
      "|    62|    110|   beautiful scenery|1528152541|        3.997863|\n",
      "|    62|    110|                epic|1528152532|       3.9637065|\n",
      "|    62|    110|          historical|1528152523|       3.3810713|\n",
      "|    62|    110|       inspirational|1528152527|       3.8046677|\n",
      "|    62|    110|            Medieval|1528152528|       3.3805492|\n",
      "|    62|    110|          mel gibson|1528152521|       3.4186118|\n",
      "|    62|    110|Oscar (Best Cinem...|1528152539|       4.3357363|\n",
      "|    62|    110|             revenge|1528152531|        4.174369|\n",
      "|    62|    110|         sword fight|1528152535|       3.3808656|\n",
      "|    62|    410|        black comedy|1525636607|        4.639671|\n",
      "|    62|    410|     Christina Ricci|1525636685|       3.5685253|\n",
      "|    62|    410|   Christopher Lloyd|1525636622|        3.741049|\n",
      "|    62|    410|         dark comedy|1525636610|       4.8990326|\n",
      "|    62|    410|              family|1525636708|       4.1095877|\n",
      "+------+-------+--------------------+----------+----------------+\n",
      "only showing top 50 rows\n",
      "\n"
     ]
    }
   ],
   "source": [
    "(\n",
    "    tags_df\n",
    "    .withColumn(\"rating_predicted\", predict_rating(f.col(\"tag\")))\n",
    "    .show(50)\n",
    ")"
   ]
  },
  {
   "cell_type": "code",
   "execution_count": 37,
   "id": "8907f87c-2224-40d2-832a-e594b0a79e65",
   "metadata": {},
   "outputs": [
    {
     "name": "stderr",
     "output_type": "stream",
     "text": [
      "[Stage 22:>                                                         (0 + 1) / 1]\r"
     ]
    },
    {
     "name": "stdout",
     "output_type": "stream",
     "text": [
      "+------------------+\n",
      "|               mse|\n",
      "+------------------+\n",
      "|0.7645033112216735|\n",
      "+------------------+\n",
      "\n"
     ]
    },
    {
     "name": "stderr",
     "output_type": "stream",
     "text": [
      "                                                                                \r"
     ]
    }
   ],
   "source": [
    "(\n",
    "    ratings_df\n",
    "    .join(tags_df, on=[\"userId\", \"movieId\"], how=\"inner\")\n",
    "    .withColumn(\"rating_predicted\", predict_rating(f.col(\"tag\")))\n",
    "    .withColumn(\"squared_error\", f.pow(f.col(\"rating_predicted\") - f.col(\"rating\"), f.lit(2)))\n",
    "    .select(f.avg(\"squared_error\").alias(\"mse\"))\n",
    "    .show()\n",
    ")"
   ]
  },
  {
   "cell_type": "markdown",
   "id": "9822dbfa-0adc-42ba-842b-ecd086e69278",
   "metadata": {},
   "source": [
    "было выполнено 3 стейджа с одной таской каждая"
   ]
  }
 ],
 "metadata": {
  "kernelspec": {
   "display_name": "Python 3 (ipykernel)",
   "language": "python",
   "name": "python3"
  },
  "language_info": {
   "codemirror_mode": {
    "name": "ipython",
    "version": 3
   },
   "file_extension": ".py",
   "mimetype": "text/x-python",
   "name": "python",
   "nbconvert_exporter": "python",
   "pygments_lexer": "ipython3",
   "version": "3.10.12"
  }
 },
 "nbformat": 4,
 "nbformat_minor": 5
}
